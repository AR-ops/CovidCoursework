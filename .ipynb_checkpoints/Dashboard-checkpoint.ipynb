{
 "cells": [
  {
   "cell_type": "markdown",
   "metadata": {},
   "source": [
    "[![Binder](https://mybinder.org/badge_logo.svg)](https://mybinder.org/v2/gh/Taz99/covid19Dashboard/HEAD?filepath=%2FDashboard.ipynb)\n",
    "\n",
    "#Link https://mybinder.org/v2/gh/Taz99/covid19Dashboard/2119cb4465c7e5b4b543c4457dbfe9f2f011f68e?filepath=Dashboard.ipynb\n",
    "#Github repo: https://github.com/Taz99/covid19Dashboard/tree/master"
   ]
  },
  {
   "cell_type": "code",
   "execution_count": 11,
   "metadata": {},
   "outputs": [],
   "source": [
    "from __future__ import print_function\n",
    "%matplotlib widget\n",
    "\n",
    "from requests import get\n",
    "import pandas as df\n",
    "import numpy as np\n",
    "from ipywidgets import interact, interactive, fixed, interact_manual\n",
    "import ipywidgets as widgets\n",
    "from pandas.io.json import json_normalize\n",
    "import matplotlib.pyplot as plt\n",
    "from datetime import datetime\n",
    "from IPython.display import display"
   ]
  },
  {
   "cell_type": "code",
   "execution_count": 12,
   "metadata": {},
   "outputs": [
    {
     "name": "stdout",
     "output_type": "stream",
     "text": [
      "hi\n"
     ]
    },
    {
     "name": "stderr",
     "output_type": "stream",
     "text": [
      "c:\\users\\haddi\\appdata\\local\\programs\\python\\python37\\lib\\site-packages\\ipykernel_launcher.py:17: FutureWarning: pandas.io.json.json_normalize is deprecated, use pandas.json_normalize instead\n"
     ]
    }
   ],
   "source": [
    "# df.DataFrame.from_records(data)\n",
    "# train = df.DataFrame.from_dict(data['data'], orient='index')\n",
    "def get_data(url):\n",
    "    response = get(endpoint, timeout=10)\n",
    "    print(\"hi\")\n",
    "    if response.status_code >= 400:\n",
    "        raise RuntimeError(f'Request failed: { response.text }')\n",
    "        \n",
    "    return response.json()\n",
    "endpoint = (\n",
    "    'https://api.coronavirus.data.gov.uk/v1/data?'\n",
    "    'filters=areaType=nation&'\n",
    "    'structure={\"date\":\"date\",\"areaName\":\"areaName\",\"areaCode\":\"areaCode\",\"newCasesByPublishDate\":\"newCasesByPublishDate\",\"cumCasesByPublishDate\":\"cumCasesByPublishDate\",\"newDeathsByDeathDate\":\"newDeathsByDeathDate\",\"cumDeathsByDeathDate\":\"cumDeathsByDeathDate\"}'\n",
    ")\n",
    "\n",
    "data = get_data(endpoint)\n",
    "dataframe=json_normalize(data['data'])\n",
    "# dataframe=dataframe.reset_index(drop= True)\n",
    "dataframe=dataframe.dropna(axis=0).reset_index(drop= True)"
   ]
  },
  {
   "cell_type": "code",
   "execution_count": 13,
   "metadata": {},
   "outputs": [
    {
     "data": {
      "text/plain": [
       "267"
      ]
     },
     "execution_count": 13,
     "metadata": {},
     "output_type": "execute_result"
    }
   ],
   "source": [
    "import matplotlib.pyplot as plt\n",
    "dataframe['date']=dataframe['date'].astype('datetime64')\n",
    "dataframe['date'].count()"
   ]
  },
  {
   "cell_type": "code",
   "execution_count": 14,
   "metadata": {},
   "outputs": [],
   "source": [
    "from datetime import datetime\n",
    "from IPython.display import display\n",
    "start_date = dataframe['date'].min()\n",
    "end_date = dataframe['date'].max()\n",
    "\n",
    "dates = df.date_range(start_date, end_date, freq='D')\n",
    "\n",
    "options = [(date.strftime(' %d %b %Y '), date) for date in dates]\n",
    "index = (0, len(options)-1)\n",
    "\n",
    "# selection_range_slider = widgets.SelectionRangeSlider(\n",
    "#     options=options,\n",
    "#     index=index,\n",
    "#     description='Dates',\n",
    "#     orientation='horizontal',\n",
    "#     layout={'width': '500px'}\n",
    "# )\n",
    "\n",
    "# def print_date_range(date_range):\n",
    "#     condition=(dataframe['date']>date_range[0]) & (dataframe['date']<date_range[1])\n",
    "#     chunk_df=dataframe[condition]\n",
    "#     plt.bar(chunk_df['date'],chunk_df['cumDeathsByDeathDate'])\n",
    "#     plt.show()\n",
    "# #     print(dataframe[dataframe['date']>date_range[0]])\n",
    "\n",
    "# widgets.interact(\n",
    "#     print_date_range,\n",
    "#     date_range=selection_range_slider,\n",
    "#     continuous_update=False\n",
    "# );"
   ]
  },
  {
   "cell_type": "code",
   "execution_count": 15,
   "metadata": {},
   "outputs": [
    {
     "data": {
      "application/vnd.jupyter.widget-view+json": {
       "model_id": "33f0c975ee6942999bc2c789de1bdbbf",
       "version_major": 2,
       "version_minor": 0
      },
      "text/plain": [
       "Sines(children=(VBox(children=(SelectionRangeSlider(description='Dates', index=(0, 266), layout=Layout(width='…"
      ]
     },
     "metadata": {},
     "output_type": "display_data"
    }
   ],
   "source": [
    "def make_box_layout():\n",
    "     return widgets.Layout(\n",
    "        border='solid 1px black',\n",
    "        margin='0px 10px 10px 0px',\n",
    "        padding='5px 5px 5px 5px'\n",
    "     )\n",
    " \n",
    "class Sines(widgets.HBox):\n",
    "     \n",
    "    def __init__(self,data):\n",
    "        super().__init__()\n",
    "        self.output = widgets.Output()\n",
    "        self.dataframe=data\n",
    "        self.updated_data=data\n",
    "        self.x = 'date'\n",
    "        self.y='cumDeathsByDeathDate'\n",
    "        self.initial_color = '#FF00DD'\n",
    "        self.show(self.output,self.initial_color)\n",
    "    def show(self,output,initial_color):\n",
    "        with output:\n",
    "            self.fig, self.ax = plt.subplots(constrained_layout=True, figsize=(5, 3.5))\n",
    "        self.line, = self.ax.plot(self.dataframe['date'], self.dataframe['cumDeathsByDeathDate'])\n",
    "         \n",
    "        self.fig.canvas.toolbar_position = 'bottom'\n",
    "        self.ax.grid(True)\n",
    " \n",
    "        # define widgets\n",
    "        int_slider = widgets.SelectionRangeSlider(\n",
    "    options=options,\n",
    "    index=index,\n",
    "    description='Dates',\n",
    "    orientation='horizontal',\n",
    "    layout={'width': '400px'}\n",
    ")\n",
    "        color_picker = widgets.ColorPicker(\n",
    "            value=initial_color, \n",
    "            description='pick a color'\n",
    "        )\n",
    "        column_x = widgets.Dropdown(\n",
    "    options=self.dataframe.columns,\n",
    "    value=self.dataframe.columns[0],\n",
    "    description='Y axis:',\n",
    ")\n",
    "        text_xlabel = widgets.Text(\n",
    "            value='', \n",
    "            description='xlabel', \n",
    "            continuous_update=False\n",
    "        )\n",
    "        text_ylabel = widgets.Text(\n",
    "            value='', \n",
    "            description='ylabel', \n",
    "            continuous_update=False\n",
    "        )\n",
    "        update_button = widgets.Button(description='refresh') \n",
    "        \n",
    "        controls = widgets.VBox([\n",
    "            int_slider, \n",
    "            color_picker,\n",
    "            column_x,\n",
    "            text_xlabel, \n",
    "            text_ylabel,\n",
    "            update_button\n",
    "        ])\n",
    "        controls.layout = make_box_layout()\n",
    "         \n",
    "        out_box = widgets.Box([output])\n",
    "        output.layout = make_box_layout()\n",
    " \n",
    "        # observe stuff\n",
    "\n",
    "        column_x.observe(self.on_change)\n",
    "        int_slider.observe(self.update, 'value')\n",
    "        color_picker.observe(self.line_color, 'value')\n",
    "        text_xlabel.observe(self.update_xlabel, 'value')\n",
    "        text_ylabel.observe(self.update_ylabel, 'value')\n",
    "#         update_button.observe(self.reloadData)\n",
    "        update_button.on_click(self.reloadData)\n",
    "        text_xlabel.value = self.x\n",
    "        text_ylabel.value = self.y\n",
    "         \n",
    " \n",
    "        # add to children\n",
    "        self.children = [controls, output]\n",
    "\n",
    "    def update(self, date_range):\n",
    "#         print(date_range.new)\n",
    "        \"\"\"Draw line in plot\"\"\"\n",
    "        x=self.dataframe['date']>date_range.new[0]\n",
    "        y=self.dataframe['date']<date_range.new[1]\n",
    "        condition=x & y\n",
    "        chunk_df=self.dataframe[condition]\n",
    "        self.updated_data=chunk_df.copy()\n",
    "#         print((self.dataframe['date']>date_range.new[0]))\n",
    "        self.line.set_ydata(self.updated_data[self.y])\n",
    "        \n",
    "        self.line.set_xdata(self.updated_data[self.x])\n",
    "        self.fig.canvas.draw()\n",
    " \n",
    "    def line_color(self, change):\n",
    "        self.line.set_color(change.new)\n",
    " \n",
    "    def update_xlabel(self, change):\n",
    "        self.ax.set_xlabel(change.new)\n",
    " \n",
    "    def update_ylabel(self, change):\n",
    "        self.ax.set_ylabel(change.new)\n",
    "    def on_change(self,change):\n",
    "        if change['type'] == 'change' and change['name'] == 'value':\n",
    "            self.line.set_ydata(self.updated_data[change['new']])\n",
    "            self.ax.set_ylabel(change['new'])\n",
    "            self.y=change['new']\n",
    "    def reloadData(self,b):\n",
    "        data = get_data(endpoint)\n",
    "        dataframe=json_normalize(data['data'])\n",
    "#         dataframe=dataframe.reset_index(drop= True)\n",
    "        dataframe=dataframe.dropna(axis=0).reset_index(drop= True)\n",
    "        dataframe['date']=dataframe['date'].astype('datetime64')\n",
    "        self.dataframe=dataframe\n",
    "        start_date = dataframe['date'].min()\n",
    "        end_date = dataframe['date'].max()\n",
    "\n",
    "        dates = df.date_range(start_date, end_date, freq='D')\n",
    "\n",
    "        options = [(date.strftime(' %d %b %Y '), date) for date in dates]\n",
    "        index = (0, len(options)-1)\n",
    "        self.dataframe=dataframe\n",
    "        self.updated_data=dataframe\n",
    "        self.line.set_ydata(self.updated_data[self.y])\n",
    "        \n",
    "        self.line.set_xdata(self.updated_data[self.x])\n",
    "        self.fig.canvas.draw()\n",
    "Sines(dataframe)"
   ]
  },
  {
   "cell_type": "code",
   "execution_count": null,
   "metadata": {},
   "outputs": [],
   "source": []
  },
  {
   "cell_type": "code",
   "execution_count": null,
   "metadata": {},
   "outputs": [],
   "source": []
  },
  {
   "cell_type": "code",
   "execution_count": null,
   "metadata": {},
   "outputs": [],
   "source": []
  }
 ],
 "metadata": {
  "kernelspec": {
   "display_name": "Python 3",
   "language": "python",
   "name": "python3"
  },
  "language_info": {
   "codemirror_mode": {
    "name": "ipython",
    "version": 3
   },
   "file_extension": ".py",
   "mimetype": "text/x-python",
   "name": "python",
   "nbconvert_exporter": "python",
   "pygments_lexer": "ipython3",
   "version": "3.7.6"
  }
 },
 "nbformat": 4,
 "nbformat_minor": 4
}
